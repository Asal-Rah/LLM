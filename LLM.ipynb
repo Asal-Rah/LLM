{
  "nbformat": 4,
  "nbformat_minor": 0,
  "metadata": {
    "colab": {
      "provenance": [],
      "gpuType": "T4"
    },
    "kernelspec": {
      "name": "python3",
      "display_name": "Python 3"
    },
    "language_info": {
      "name": "python"
    },
    "accelerator": "GPU"
  },
  "cells": [
    {
      "cell_type": "markdown",
      "source": [
        "#Loading Dataset"
      ],
      "metadata": {
        "id": "sGQCwRc-dtd7"
      }
    },
    {
      "cell_type": "code",
      "execution_count": null,
      "metadata": {
        "id": "c68_hEIedRSL"
      },
      "outputs": [],
      "source": [
        "import tensorflow as tf\n",
        "import numpy as np"
      ]
    },
    {
      "cell_type": "code",
      "source": [
        "path = '/content/drive/MyDrive/Persian-WikiText-1.txt'"
      ],
      "metadata": {
        "id": "xsVHJ9bGlrIZ"
      },
      "execution_count": null,
      "outputs": []
    },
    {
      "cell_type": "code",
      "source": [
        "def load_and_take_sample(path):\n",
        "  #load the text data first\n",
        "  dataset = open(path, 'rb').read().decode(encoding='UTF-8')\n",
        "  dataset = dataset.replace('\\n', '') #put all lines one after the other\n",
        "  sample_dataset = dataset[:1000000]#since our data is too large we have to take a sample from it and work with that\n",
        "  char_dataset = sorted(set(sample_dataset)) #get a list of unique characters of the text\n",
        "  return char_dataset , sample_dataset\n"
      ],
      "metadata": {
        "id": "BqCvHrmikTMA"
      },
      "execution_count": null,
      "outputs": []
    },
    {
      "cell_type": "code",
      "source": [
        "char_dataset , sample_dataset = load_and_take_sample(path)"
      ],
      "metadata": {
        "id": "wwG9Tgw_lxdh"
      },
      "execution_count": null,
      "outputs": []
    },
    {
      "cell_type": "code",
      "source": [
        "#number of unique characters\n",
        "len(char_dataset)"
      ],
      "metadata": {
        "colab": {
          "base_uri": "https://localhost:8080/"
        },
        "id": "uX2ce-_cq0ao",
        "outputId": "052e89d2-7277-49a9-e3c4-9a0c23c64500"
      },
      "execution_count": null,
      "outputs": [
        {
          "output_type": "execute_result",
          "data": {
            "text/plain": [
              "224"
            ]
          },
          "metadata": {},
          "execution_count": 5
        }
      ]
    },
    {
      "cell_type": "code",
      "source": [
        "def generate_mapping(char_dataset):\n",
        "    #using this we are generating an index mapping for the characters in the text\n",
        "    char2index = {u:i for i, u in enumerate(char_dataset)}\n",
        "    index2char = np.array(char_dataset)\n",
        "    return char2index , index2char"
      ],
      "metadata": {
        "id": "tizMnitnky9N"
      },
      "execution_count": null,
      "outputs": []
    },
    {
      "cell_type": "code",
      "source": [
        "char2index , index2char = generate_mapping(char_dataset)"
      ],
      "metadata": {
        "id": "b8xhv3kJl4M9"
      },
      "execution_count": null,
      "outputs": []
    },
    {
      "cell_type": "code",
      "source": [
        "first_20_chars = dict(list(char2index.items())[:20])\n",
        "\n",
        "for key, value in first_20_chars.items():\n",
        "    print(f\"{key}: {value}\")"
      ],
      "metadata": {
        "colab": {
          "base_uri": "https://localhost:8080/"
        },
        "id": "Wvrokq3-mDaG",
        "outputId": "2a1ecf1e-6788-478f-e279-1b7f3acc7cfc"
      },
      "execution_count": null,
      "outputs": [
        {
          "output_type": "stream",
          "name": "stdout",
          "text": [
            " : 0\n",
            "!: 1\n",
            "\": 2\n",
            "': 3\n",
            "(: 4\n",
            "): 5\n",
            "+: 6\n",
            ",: 7\n",
            "-: 8\n",
            ".: 9\n",
            "/: 10\n",
            "0: 11\n",
            "1: 12\n",
            "2: 13\n",
            "3: 14\n",
            "4: 15\n",
            "5: 16\n",
            "6: 17\n",
            "7: 18\n",
            "8: 19\n"
          ]
        }
      ]
    },
    {
      "cell_type": "code",
      "source": [
        "def get_char(char2index,sample_dataset):\n",
        "   txt2int = np.array([char2index[c] for c in sample_dataset])\n",
        "   final_chars = tf.data.Dataset.from_tensor_slices(txt2int)\n",
        "   return final_chars\n"
      ],
      "metadata": {
        "id": "DqMt7TtulECB"
      },
      "execution_count": null,
      "outputs": []
    },
    {
      "cell_type": "code",
      "source": [
        "final_chars = get_char(char2index,sample_dataset)"
      ],
      "metadata": {
        "id": "uvv4cnolmV1Y"
      },
      "execution_count": null,
      "outputs": []
    },
    {
      "cell_type": "code",
      "source": [
        "char2index"
      ],
      "metadata": {
        "colab": {
          "base_uri": "https://localhost:8080/"
        },
        "id": "GikKWvDGe5uA",
        "outputId": "3d4bb432-f41d-4c69-dd0c-d7bce267b68d"
      },
      "execution_count": null,
      "outputs": [
        {
          "output_type": "execute_result",
          "data": {
            "text/plain": [
              "{' ': 0,\n",
              " '!': 1,\n",
              " '\"': 2,\n",
              " \"'\": 3,\n",
              " '(': 4,\n",
              " ')': 5,\n",
              " '+': 6,\n",
              " ',': 7,\n",
              " '-': 8,\n",
              " '.': 9,\n",
              " '/': 10,\n",
              " '0': 11,\n",
              " '1': 12,\n",
              " '2': 13,\n",
              " '3': 14,\n",
              " '4': 15,\n",
              " '5': 16,\n",
              " '6': 17,\n",
              " '7': 18,\n",
              " '8': 19,\n",
              " '9': 20,\n",
              " ':': 21,\n",
              " ';': 22,\n",
              " '<': 23,\n",
              " '=': 24,\n",
              " '>': 25,\n",
              " 'A': 26,\n",
              " 'B': 27,\n",
              " 'C': 28,\n",
              " 'D': 29,\n",
              " 'E': 30,\n",
              " 'F': 31,\n",
              " 'G': 32,\n",
              " 'H': 33,\n",
              " 'I': 34,\n",
              " 'J': 35,\n",
              " 'K': 36,\n",
              " 'L': 37,\n",
              " 'M': 38,\n",
              " 'N': 39,\n",
              " 'O': 40,\n",
              " 'P': 41,\n",
              " 'Q': 42,\n",
              " 'R': 43,\n",
              " 'S': 44,\n",
              " 'T': 45,\n",
              " 'U': 46,\n",
              " 'V': 47,\n",
              " 'W': 48,\n",
              " 'X': 49,\n",
              " 'Y': 50,\n",
              " 'Z': 51,\n",
              " '[': 52,\n",
              " ']': 53,\n",
              " '^': 54,\n",
              " '_': 55,\n",
              " 'a': 56,\n",
              " 'b': 57,\n",
              " 'c': 58,\n",
              " 'd': 59,\n",
              " 'e': 60,\n",
              " 'f': 61,\n",
              " 'g': 62,\n",
              " 'h': 63,\n",
              " 'i': 64,\n",
              " 'j': 65,\n",
              " 'k': 66,\n",
              " 'l': 67,\n",
              " 'm': 68,\n",
              " 'n': 69,\n",
              " 'o': 70,\n",
              " 'p': 71,\n",
              " 'q': 72,\n",
              " 'r': 73,\n",
              " 's': 74,\n",
              " 't': 75,\n",
              " 'u': 76,\n",
              " 'v': 77,\n",
              " 'w': 78,\n",
              " 'x': 79,\n",
              " 'y': 80,\n",
              " 'z': 81,\n",
              " '{': 82,\n",
              " '|': 83,\n",
              " '}': 84,\n",
              " '\\xa0': 85,\n",
              " '«': 86,\n",
              " '»': 87,\n",
              " 'Ç': 88,\n",
              " '×': 89,\n",
              " 'à': 90,\n",
              " 'á': 91,\n",
              " 'ã': 92,\n",
              " 'ä': 93,\n",
              " 'ç': 94,\n",
              " 'é': 95,\n",
              " 'ê': 96,\n",
              " 'î': 97,\n",
              " 'ā': 98,\n",
              " 'ć': 99,\n",
              " 'ē': 100,\n",
              " 'ī': 101,\n",
              " 'ń': 102,\n",
              " 'ō': 103,\n",
              " 'Ś': 104,\n",
              " 'ş': 105,\n",
              " 'š': 106,\n",
              " 'ˈ': 107,\n",
              " 'Ά': 108,\n",
              " 'Α': 109,\n",
              " 'Μ': 110,\n",
              " 'Ο': 111,\n",
              " 'ή': 112,\n",
              " 'ί': 113,\n",
              " 'α': 114,\n",
              " 'β': 115,\n",
              " 'γ': 116,\n",
              " 'δ': 117,\n",
              " 'ε': 118,\n",
              " 'θ': 119,\n",
              " 'ι': 120,\n",
              " 'λ': 121,\n",
              " 'μ': 122,\n",
              " 'ν': 123,\n",
              " 'ξ': 124,\n",
              " 'ο': 125,\n",
              " 'ρ': 126,\n",
              " 'ς': 127,\n",
              " 'τ': 128,\n",
              " 'ω': 129,\n",
              " 'П': 130,\n",
              " 'Р': 131,\n",
              " 'а': 132,\n",
              " 'е': 133,\n",
              " 'и': 134,\n",
              " 'м': 135,\n",
              " 'н': 136,\n",
              " 'р': 137,\n",
              " 'т': 138,\n",
              " 'у': 139,\n",
              " 'я': 140,\n",
              " '،': 141,\n",
              " '؛': 142,\n",
              " '؟': 143,\n",
              " 'ء': 144,\n",
              " 'آ': 145,\n",
              " 'أ': 146,\n",
              " 'ؤ': 147,\n",
              " 'ئ': 148,\n",
              " 'ا': 149,\n",
              " 'ب': 150,\n",
              " 'ة': 151,\n",
              " 'ت': 152,\n",
              " 'ث': 153,\n",
              " 'ج': 154,\n",
              " 'ح': 155,\n",
              " 'خ': 156,\n",
              " 'د': 157,\n",
              " 'ذ': 158,\n",
              " 'ر': 159,\n",
              " 'ز': 160,\n",
              " 'س': 161,\n",
              " 'ش': 162,\n",
              " 'ص': 163,\n",
              " 'ض': 164,\n",
              " 'ط': 165,\n",
              " 'ظ': 166,\n",
              " 'ع': 167,\n",
              " 'غ': 168,\n",
              " 'ـ': 169,\n",
              " 'ف': 170,\n",
              " 'ق': 171,\n",
              " 'ل': 172,\n",
              " 'م': 173,\n",
              " 'ن': 174,\n",
              " 'ه': 175,\n",
              " 'و': 176,\n",
              " 'ي': 177,\n",
              " 'ً': 178,\n",
              " 'َ': 179,\n",
              " 'ُ': 180,\n",
              " 'ِ': 181,\n",
              " 'ّ': 182,\n",
              " 'ْ': 183,\n",
              " 'ٔ': 184,\n",
              " '٪': 185,\n",
              " '٫': 186,\n",
              " '٬': 187,\n",
              " 'ٰ': 188,\n",
              " 'پ': 189,\n",
              " 'چ': 190,\n",
              " 'ژ': 191,\n",
              " 'ک': 192,\n",
              " 'گ': 193,\n",
              " 'ۀ': 194,\n",
              " 'ی': 195,\n",
              " '۰': 196,\n",
              " '۱': 197,\n",
              " '۲': 198,\n",
              " '۳': 199,\n",
              " '۴': 200,\n",
              " '۵': 201,\n",
              " '۶': 202,\n",
              " '۷': 203,\n",
              " '۸': 204,\n",
              " '۹': 205,\n",
              " 'Ἀ': 206,\n",
              " 'ἑ': 207,\n",
              " 'ὁ': 208,\n",
              " 'ὔ': 209,\n",
              " 'ὕ': 210,\n",
              " 'ῆ': 211,\n",
              " '\\u200d': 212,\n",
              " '\\u200e': 213,\n",
              " '–': 214,\n",
              " '—': 215,\n",
              " '‚': 216,\n",
              " '“': 217,\n",
              " '”': 218,\n",
              " '„': 219,\n",
              " '…': 220,\n",
              " '→': 221,\n",
              " '∞': 222,\n",
              " 'ﷲ': 223}"
            ]
          },
          "metadata": {},
          "execution_count": 11
        }
      ]
    },
    {
      "cell_type": "code",
      "source": [
        "index2char"
      ],
      "metadata": {
        "colab": {
          "base_uri": "https://localhost:8080/"
        },
        "id": "vP1ZxnWNe7Pk",
        "outputId": "e8a9254a-df35-4f2a-fd93-fb9bfce7a843"
      },
      "execution_count": null,
      "outputs": [
        {
          "output_type": "execute_result",
          "data": {
            "text/plain": [
              "array([' ', '!', '\"', \"'\", '(', ')', '+', ',', '-', '.', '/', '0', '1',\n",
              "       '2', '3', '4', '5', '6', '7', '8', '9', ':', ';', '<', '=', '>',\n",
              "       'A', 'B', 'C', 'D', 'E', 'F', 'G', 'H', 'I', 'J', 'K', 'L', 'M',\n",
              "       'N', 'O', 'P', 'Q', 'R', 'S', 'T', 'U', 'V', 'W', 'X', 'Y', 'Z',\n",
              "       '[', ']', '^', '_', 'a', 'b', 'c', 'd', 'e', 'f', 'g', 'h', 'i',\n",
              "       'j', 'k', 'l', 'm', 'n', 'o', 'p', 'q', 'r', 's', 't', 'u', 'v',\n",
              "       'w', 'x', 'y', 'z', '{', '|', '}', '\\xa0', '«', '»', 'Ç', '×', 'à',\n",
              "       'á', 'ã', 'ä', 'ç', 'é', 'ê', 'î', 'ā', 'ć', 'ē', 'ī', 'ń', 'ō',\n",
              "       'Ś', 'ş', 'š', 'ˈ', 'Ά', 'Α', 'Μ', 'Ο', 'ή', 'ί', 'α', 'β', 'γ',\n",
              "       'δ', 'ε', 'θ', 'ι', 'λ', 'μ', 'ν', 'ξ', 'ο', 'ρ', 'ς', 'τ', 'ω',\n",
              "       'П', 'Р', 'а', 'е', 'и', 'м', 'н', 'р', 'т', 'у', 'я', '،', '؛',\n",
              "       '؟', 'ء', 'آ', 'أ', 'ؤ', 'ئ', 'ا', 'ب', 'ة', 'ت', 'ث', 'ج', 'ح',\n",
              "       'خ', 'د', 'ذ', 'ر', 'ز', 'س', 'ش', 'ص', 'ض', 'ط', 'ظ', 'ع', 'غ',\n",
              "       'ـ', 'ف', 'ق', 'ل', 'م', 'ن', 'ه', 'و', 'ي', 'ً', 'َ', 'ُ', 'ِ',\n",
              "       'ّ', 'ْ', 'ٔ', '٪', '٫', '٬', 'ٰ', 'پ', 'چ', 'ژ', 'ک', 'گ', 'ۀ',\n",
              "       'ی', '۰', '۱', '۲', '۳', '۴', '۵', '۶', '۷', '۸', '۹', 'Ἀ', 'ἑ',\n",
              "       'ὁ', 'ὔ', 'ὕ', 'ῆ', '\\u200d', '\\u200e', '–', '—', '‚', '“', '”',\n",
              "       '„', '…', '→', '∞', 'ﷲ'], dtype='<U1')"
            ]
          },
          "metadata": {},
          "execution_count": 12
        }
      ]
    },
    {
      "cell_type": "code",
      "source": [
        "for i in final_chars.take(5): print(i.numpy())"
      ],
      "metadata": {
        "colab": {
          "base_uri": "https://localhost:8080/"
        },
        "id": "sO3ikGnffRbJ",
        "outputId": "5e902d89-de8d-4667-e80c-b9a9436e0f05"
      },
      "execution_count": null,
      "outputs": [
        {
          "output_type": "stream",
          "name": "stdout",
          "text": [
            "167\n",
            "174\n",
            "176\n",
            "149\n",
            "174\n"
          ]
        }
      ]
    },
    {
      "cell_type": "code",
      "source": [
        "indexes = []\n",
        "for i in final_chars.take(5): indexes.append(i)"
      ],
      "metadata": {
        "id": "fwoyp-_jfS9M"
      },
      "execution_count": null,
      "outputs": []
    },
    {
      "cell_type": "code",
      "source": [
        "for indx in indexes :\n",
        "  print('The unique char is : ' , index2char[indx])"
      ],
      "metadata": {
        "colab": {
          "base_uri": "https://localhost:8080/"
        },
        "id": "TNvKv37mgFMW",
        "outputId": "0e073af9-251b-494e-d34a-5f91a433ab1d"
      },
      "execution_count": null,
      "outputs": [
        {
          "output_type": "stream",
          "name": "stdout",
          "text": [
            "The unique char is :  ع\n",
            "The unique char is :  ن\n",
            "The unique char is :  و\n",
            "The unique char is :  ا\n",
            "The unique char is :  ن\n"
          ]
        }
      ]
    },
    {
      "cell_type": "code",
      "source": [
        "#now we have to split our data into batches for training\n",
        "batches = final_chars.batch(100, drop_remainder=True)"
      ],
      "metadata": {
        "id": "2aTxju7tgOCQ"
      },
      "execution_count": null,
      "outputs": []
    },
    {
      "cell_type": "code",
      "source": [
        "#here i define a function for splitting each data sample into target and input\n",
        "def sit(batch):\n",
        "    input_text = batch[:-1]\n",
        "    target_text = batch[1:]\n",
        "    return input_text, target_text"
      ],
      "metadata": {
        "id": "utwNoqI8gZkB"
      },
      "execution_count": null,
      "outputs": []
    },
    {
      "cell_type": "code",
      "source": [
        "final_dataset = batches.map(sit)"
      ],
      "metadata": {
        "id": "qbz_0bqhgraA"
      },
      "execution_count": null,
      "outputs": []
    },
    {
      "cell_type": "code",
      "source": [
        "for i in final_dataset.take(5) : print(i[0].numpy())"
      ],
      "metadata": {
        "colab": {
          "base_uri": "https://localhost:8080/"
        },
        "id": "_F1ndhV1gulB",
        "outputId": "ce9bb48d-067d-4a6f-ab98-c17234049886"
      },
      "execution_count": null,
      "outputs": [
        {
          "output_type": "stream",
          "name": "stdout",
          "text": [
            "[167 174 176 149 174   0 173 171 149 172 175  21   0 163 170 155 175 184\n",
            "   0 149 163 172 195  23  75  60  68  71  67  56  75  60  74  75  80  67\n",
            "  60  74   0  74  73  58  24   2 163 170 155 175   0 149 163 172 195  10\n",
            " 167 174 176 149 174   0 173 171 149 172 175  21   0 176 195 192 195   0\n",
            " 189 157 195 149 176 195 192 195   0 189 157 195 149   0   4 192 176 152\n",
            " 175   0 174 176 162 152   0 150 175]\n",
            "[163 176 159 152   0  86 176 189  87   0 176   0  86  48  41  87   5   0\n",
            " 195 192   0 157 149 174 162 174 149 173 175   0 150 159 156 165   0 190\n",
            " 174 157 160 150 149 174 175   0 173 150 152 174 195   0 150 159   0 176\n",
            " 150   0 150 149   0 173 155 152 176 149 195   0 145 160 149 157   0 176\n",
            "   0 175 173 192 149 159 195   0 150 149 160   0 149 161 152   0 192 175\n",
            "   0 150 149   0 175 173 192 149 159]\n",
            "[  0 149 170 159 149 157   0 157 149 176 165 172 150   0 174 176 162 152\n",
            " 175   0 173 195   0 162 176 157   0 176   0 175 159   0 192 161 195   0\n",
            " 192 175   0 150 175   0 149 195 174 152 159 174 152   0 176   0 176 150\n",
            "   0 157 161 152 159 161 195   0 157 149 162 152 175   0 150 149 162 157\n",
            "   0 173 195   0 152 176 149 174 157   0 173 171 149 172 149 152   0 145\n",
            " 174   0 159 149   0 150 150 195 174]\n",
            "[  0 176   0 176 195 159 149 195 162   0 192 174 157   9   0 174 149 173\n",
            "   0 176 195 192 195   0 189 157 195 149   0 176 149 191 175   0 149 195\n",
            "   0 152 159 192 195 150 195   0 149 161 152   0 192 175   0 149 160   0\n",
            " 176 149 191 175   0 175 149 195   0 176 195 192 195   0   4 176 150 193\n",
            " 149 175   0 173 162 149 159 192 152 195   5   0 176   0 149 181 174 161\n",
            " 149 195 192 172 176 189 157 195 149]\n",
            "[  4  30  69  58  80  58  67  70  71  60  59  64  56   5   0   4 157 149\n",
            " 174 162 174 149 173 175   0 195 149   0 157 149 148 159 151 149 172 173\n",
            " 167 149 159 170   5   0 193 159 170 152 175   0 162 157 175   0 149 161\n",
            " 152   9   0 175 157 170   0 176 195 192 195   0 189 157 195 149   0 145\n",
            " 170 159 195 174 162   0 176   0 149 174 152 162 149 159   0 154 175 149\n",
            " 174 195   0 195 192   0 157 149 174]\n"
          ]
        }
      ]
    },
    {
      "cell_type": "code",
      "source": [
        "indexes = []\n",
        "for i in final_dataset.take(5) : indexes.append(i[0].numpy())"
      ],
      "metadata": {
        "id": "KcbUUT2dg6SQ"
      },
      "execution_count": null,
      "outputs": []
    },
    {
      "cell_type": "code",
      "source": [
        "for indx in indexes : print(index2char[indx])"
      ],
      "metadata": {
        "colab": {
          "base_uri": "https://localhost:8080/"
        },
        "id": "tCPQ8tFfhG2X",
        "outputId": "63228cc0-d579-4410-8d52-dcd853f9565e"
      },
      "execution_count": null,
      "outputs": [
        {
          "output_type": "stream",
          "name": "stdout",
          "text": [
            "['ع' 'ن' 'و' 'ا' 'ن' ' ' 'م' 'ق' 'ا' 'ل' 'ه' ':' ' ' 'ص' 'ف' 'ح' 'ه' 'ٔ'\n",
            " ' ' 'ا' 'ص' 'ل' 'ی' '<' 't' 'e' 'm' 'p' 'l' 'a' 't' 'e' 's' 't' 'y' 'l'\n",
            " 'e' 's' ' ' 's' 'r' 'c' '=' '\"' 'ص' 'ف' 'ح' 'ه' ' ' 'ا' 'ص' 'ل' 'ی' '/'\n",
            " 'ع' 'ن' 'و' 'ا' 'ن' ' ' 'م' 'ق' 'ا' 'ل' 'ه' ':' ' ' 'و' 'ی' 'ک' 'ی' ' '\n",
            " 'پ' 'د' 'ی' 'ا' 'و' 'ی' 'ک' 'ی' ' ' 'پ' 'د' 'ی' 'ا' ' ' '(' 'ک' 'و' 'ت'\n",
            " 'ه' ' ' 'ن' 'و' 'ش' 'ت' ' ' 'ب' 'ه']\n",
            "['ص' 'و' 'ر' 'ت' ' ' '«' 'و' 'پ' '»' ' ' 'و' ' ' '«' 'W' 'P' '»' ')' ' '\n",
            " 'ی' 'ک' ' ' 'د' 'ا' 'ن' 'ش' 'ن' 'ا' 'م' 'ه' ' ' 'ب' 'ر' 'خ' 'ط' ' ' 'چ'\n",
            " 'ن' 'د' 'ز' 'ب' 'ا' 'ن' 'ه' ' ' 'م' 'ب' 'ت' 'ن' 'ی' ' ' 'ب' 'ر' ' ' 'و'\n",
            " 'ب' ' ' 'ب' 'ا' ' ' 'م' 'ح' 'ت' 'و' 'ا' 'ی' ' ' 'آ' 'ز' 'ا' 'د' ' ' 'و'\n",
            " ' ' 'ه' 'م' 'ک' 'ا' 'ر' 'ی' ' ' 'ب' 'ا' 'ز' ' ' 'ا' 'س' 'ت' ' ' 'ک' 'ه'\n",
            " ' ' 'ب' 'ا' ' ' 'ه' 'م' 'ک' 'ا' 'ر']\n",
            "[' ' 'ا' 'ف' 'ر' 'ا' 'د' ' ' 'د' 'ا' 'و' 'ط' 'ل' 'ب' ' ' 'ن' 'و' 'ش' 'ت'\n",
            " 'ه' ' ' 'م' 'ی' ' ' 'ش' 'و' 'د' ' ' 'و' ' ' 'ه' 'ر' ' ' 'ک' 'س' 'ی' ' '\n",
            " 'ک' 'ه' ' ' 'ب' 'ه' ' ' 'ا' 'ی' 'ن' 'ت' 'ر' 'ن' 'ت' ' ' 'و' ' ' 'و' 'ب'\n",
            " ' ' 'د' 'س' 'ت' 'ر' 'س' 'ی' ' ' 'د' 'ا' 'ش' 'ت' 'ه' ' ' 'ب' 'ا' 'ش' 'د'\n",
            " ' ' 'م' 'ی' ' ' 'ت' 'و' 'ا' 'ن' 'د' ' ' 'م' 'ق' 'ا' 'ل' 'ا' 'ت' ' ' 'آ'\n",
            " 'ن' ' ' 'ر' 'ا' ' ' 'ب' 'ب' 'ی' 'ن']\n",
            "[' ' 'و' ' ' 'و' 'ی' 'ر' 'ا' 'ی' 'ش' ' ' 'ک' 'ن' 'د' '.' ' ' 'ن' 'ا' 'م'\n",
            " ' ' 'و' 'ی' 'ک' 'ی' ' ' 'پ' 'د' 'ی' 'ا' ' ' 'و' 'ا' 'ژ' 'ه' ' ' 'ا' 'ی'\n",
            " ' ' 'ت' 'ر' 'ک' 'ی' 'ب' 'ی' ' ' 'ا' 'س' 'ت' ' ' 'ک' 'ه' ' ' 'ا' 'ز' ' '\n",
            " 'و' 'ا' 'ژ' 'ه' ' ' 'ه' 'ا' 'ی' ' ' 'و' 'ی' 'ک' 'ی' ' ' '(' 'و' 'ب' 'گ'\n",
            " 'ا' 'ه' ' ' 'م' 'ش' 'ا' 'ر' 'ک' 'ت' 'ی' ')' ' ' 'و' ' ' 'ا' 'ِ' 'ن' 'س'\n",
            " 'ا' 'ی' 'ک' 'ل' 'و' 'پ' 'د' 'ی' 'ا']\n",
            "['(' 'E' 'n' 'c' 'y' 'c' 'l' 'o' 'p' 'e' 'd' 'i' 'a' ')' ' ' '(' 'د' 'ا'\n",
            " 'ن' 'ش' 'ن' 'ا' 'م' 'ه' ' ' 'ی' 'ا' ' ' 'د' 'ا' 'ئ' 'ر' 'ة' 'ا' 'ل' 'م'\n",
            " 'ع' 'ا' 'ر' 'ف' ')' ' ' 'گ' 'ر' 'ف' 'ت' 'ه' ' ' 'ش' 'د' 'ه' ' ' 'ا' 'س'\n",
            " 'ت' '.' ' ' 'ه' 'د' 'ف' ' ' 'و' 'ی' 'ک' 'ی' ' ' 'پ' 'د' 'ی' 'ا' ' ' 'آ'\n",
            " 'ف' 'ر' 'ی' 'ن' 'ش' ' ' 'و' ' ' 'ا' 'ن' 'ت' 'ش' 'ا' 'ر' ' ' 'ج' 'ه' 'ا'\n",
            " 'ن' 'ی' ' ' 'ی' 'ک' ' ' 'د' 'ا' 'ن']\n"
          ]
        }
      ]
    },
    {
      "cell_type": "code",
      "source": [
        "for indx in indexes : print(''.join(index2char[indx]))"
      ],
      "metadata": {
        "colab": {
          "base_uri": "https://localhost:8080/"
        },
        "id": "u8H--LuUhiEX",
        "outputId": "11e5b1c3-8ecf-42f7-9f5a-b629ea9b76aa"
      },
      "execution_count": null,
      "outputs": [
        {
          "output_type": "stream",
          "name": "stdout",
          "text": [
            "عنوان مقاله: صفحهٔ اصلی<templatestyles src=\"صفحه اصلی/عنوان مقاله: ویکی پدیاویکی پدیا (کوته نوشت به\n",
            "صورت «وپ» و «WP») یک دانشنامه برخط چندزبانه مبتنی بر وب با محتوای آزاد و همکاری باز است که با همکار\n",
            " افراد داوطلب نوشته می شود و هر کسی که به اینترنت و وب دسترسی داشته باشد می تواند مقالات آن را ببین\n",
            " و ویرایش کند. نام ویکی پدیا واژه ای ترکیبی است که از واژه های ویکی (وبگاه مشارکتی) و اِنسایکلوپدیا\n",
            "(Encyclopedia) (دانشنامه یا دائرةالمعارف) گرفته شده است. هدف ویکی پدیا آفرینش و انتشار جهانی یک دان\n"
          ]
        }
      ]
    },
    {
      "cell_type": "code",
      "source": [
        "final_dataset = final_dataset.batch(50, drop_remainder=True)"
      ],
      "metadata": {
        "id": "cinzzORts2Tq"
      },
      "execution_count": null,
      "outputs": []
    },
    {
      "cell_type": "code",
      "source": [
        "def split_data(final_dataset):\n",
        "   X , y = next(iter(final_dataset))\n",
        "   return X, y"
      ],
      "metadata": {
        "id": "gWtMEr5bnS1F"
      },
      "execution_count": null,
      "outputs": []
    },
    {
      "cell_type": "markdown",
      "source": [
        "#Model"
      ],
      "metadata": {
        "id": "wYe0InUNiDld"
      }
    },
    {
      "cell_type": "code",
      "source": [
        "input_size = len(char_dataset)"
      ],
      "metadata": {
        "id": "CaiRnogmjKH9"
      },
      "execution_count": null,
      "outputs": []
    },
    {
      "cell_type": "code",
      "source": [
        "model = tf.keras.Sequential([\n",
        "    tf.keras.layers.Embedding(input_size, 256),\n",
        "    tf.keras.layers.GRU(1024, return_sequences=True),\n",
        "    tf.keras.layers.Dense(224)\n",
        "])"
      ],
      "metadata": {
        "id": "45rwIhVkjoLi"
      },
      "execution_count": null,
      "outputs": []
    },
    {
      "cell_type": "code",
      "source": [
        "def loss_f(labels, logits):\n",
        "    return tf.keras.losses.sparse_categorical_crossentropy(labels, logits, from_logits=True)"
      ],
      "metadata": {
        "id": "kgjIHnrwjr2h"
      },
      "execution_count": null,
      "outputs": []
    },
    {
      "cell_type": "code",
      "source": [
        "model.compile(optimizer='adam', loss=loss_f)"
      ],
      "metadata": {
        "id": "uTuqdxYxjsZ-"
      },
      "execution_count": null,
      "outputs": []
    },
    {
      "cell_type": "code",
      "source": [
        "checkpoint = tf.keras.callbacks.ModelCheckpoint(filepath='gru_prediction_model.h5', save_weights_only=True)"
      ],
      "metadata": {
        "id": "SyoHQm34jwTc"
      },
      "execution_count": null,
      "outputs": []
    },
    {
      "cell_type": "code",
      "source": [
        "history = model.fit(final_dataset, epochs=40, callbacks=[checkpoint])"
      ],
      "metadata": {
        "colab": {
          "base_uri": "https://localhost:8080/"
        },
        "id": "lJ89iyBgjyt_",
        "outputId": "574a055b-84da-4713-d263-b5f6bef0b5e2"
      },
      "execution_count": null,
      "outputs": [
        {
          "output_type": "stream",
          "name": "stdout",
          "text": [
            "Epoch 1/40\n",
            "200/200 [==============================] - 10s 49ms/step - loss: 2.4140\n",
            "Epoch 2/40\n",
            "200/200 [==============================] - 9s 46ms/step - loss: 2.1932\n",
            "Epoch 3/40\n",
            "200/200 [==============================] - 10s 48ms/step - loss: 1.9991\n",
            "Epoch 4/40\n",
            "200/200 [==============================] - 10s 49ms/step - loss: 1.8487\n",
            "Epoch 5/40\n",
            "200/200 [==============================] - 10s 49ms/step - loss: 1.7351\n",
            "Epoch 6/40\n",
            "200/200 [==============================] - 10s 51ms/step - loss: 1.6457\n",
            "Epoch 7/40\n",
            "200/200 [==============================] - 10s 51ms/step - loss: 1.5683\n",
            "Epoch 8/40\n",
            "200/200 [==============================] - 10s 51ms/step - loss: 1.4966\n",
            "Epoch 9/40\n",
            "200/200 [==============================] - 10s 52ms/step - loss: 1.4249\n",
            "Epoch 10/40\n",
            "200/200 [==============================] - 10s 51ms/step - loss: 1.3497\n",
            "Epoch 11/40\n",
            "200/200 [==============================] - 10s 52ms/step - loss: 1.2683\n",
            "Epoch 12/40\n",
            "200/200 [==============================] - 11s 53ms/step - loss: 1.1805\n",
            "Epoch 13/40\n",
            "200/200 [==============================] - 10s 51ms/step - loss: 1.0897\n",
            "Epoch 14/40\n",
            "200/200 [==============================] - 10s 52ms/step - loss: 1.0098\n",
            "Epoch 15/40\n",
            "200/200 [==============================] - 10s 52ms/step - loss: 0.9755\n",
            "Epoch 16/40\n",
            "200/200 [==============================] - 10s 51ms/step - loss: 1.0089\n",
            "Epoch 17/40\n",
            "200/200 [==============================] - 10s 52ms/step - loss: 1.0237\n",
            "Epoch 18/40\n",
            "200/200 [==============================] - 10s 51ms/step - loss: 0.9951\n",
            "Epoch 19/40\n",
            "200/200 [==============================] - 11s 53ms/step - loss: 0.9543\n",
            "Epoch 20/40\n",
            "200/200 [==============================] - 10s 51ms/step - loss: 0.9246\n",
            "Epoch 21/40\n",
            "200/200 [==============================] - 10s 51ms/step - loss: 0.9042\n",
            "Epoch 22/40\n",
            "200/200 [==============================] - 10s 52ms/step - loss: 0.8908\n",
            "Epoch 23/40\n",
            "200/200 [==============================] - 11s 53ms/step - loss: 0.8783\n",
            "Epoch 24/40\n",
            "200/200 [==============================] - 10s 52ms/step - loss: 0.8643\n",
            "Epoch 25/40\n",
            "200/200 [==============================] - 11s 53ms/step - loss: 0.8535\n",
            "Epoch 26/40\n",
            "200/200 [==============================] - 10s 52ms/step - loss: 0.8482\n",
            "Epoch 27/40\n",
            "200/200 [==============================] - 10s 50ms/step - loss: 0.8384\n",
            "Epoch 28/40\n",
            "200/200 [==============================] - 10s 51ms/step - loss: 0.8280\n",
            "Epoch 29/40\n",
            "200/200 [==============================] - 11s 53ms/step - loss: 0.8199\n",
            "Epoch 30/40\n",
            "200/200 [==============================] - 10s 51ms/step - loss: 0.8203\n",
            "Epoch 31/40\n",
            "200/200 [==============================] - 10s 52ms/step - loss: 0.8176\n",
            "Epoch 32/40\n",
            "200/200 [==============================] - 10s 51ms/step - loss: 0.8075\n",
            "Epoch 33/40\n",
            "200/200 [==============================] - 10s 52ms/step - loss: 0.8007\n",
            "Epoch 34/40\n",
            "200/200 [==============================] - 11s 53ms/step - loss: 0.7936\n",
            "Epoch 35/40\n",
            "200/200 [==============================] - 11s 54ms/step - loss: 0.7891\n",
            "Epoch 36/40\n",
            "200/200 [==============================] - 11s 53ms/step - loss: 0.7842\n",
            "Epoch 37/40\n",
            "200/200 [==============================] - 10s 50ms/step - loss: 0.7778\n",
            "Epoch 38/40\n",
            "200/200 [==============================] - 10s 51ms/step - loss: 0.7743\n",
            "Epoch 39/40\n",
            "200/200 [==============================] - 10s 52ms/step - loss: 0.7676\n",
            "Epoch 40/40\n",
            "200/200 [==============================] - 10s 52ms/step - loss: 0.7669\n"
          ]
        }
      ]
    },
    {
      "cell_type": "code",
      "source": [
        "model.save('gru_prediction_model.h5')"
      ],
      "metadata": {
        "colab": {
          "base_uri": "https://localhost:8080/"
        },
        "id": "xGCXjS1XpRLb",
        "outputId": "458b04df-4738-4d60-c274-e665843e6f14"
      },
      "execution_count": null,
      "outputs": [
        {
          "output_type": "stream",
          "name": "stderr",
          "text": [
            "/usr/local/lib/python3.10/dist-packages/keras/src/engine/training.py:3103: UserWarning: You are saving your model as an HDF5 file via `model.save()`. This file format is considered legacy. We recommend using instead the native Keras format, e.g. `model.save('my_model.keras')`.\n",
            "  saving_api.save_model(\n"
          ]
        }
      ]
    },
    {
      "cell_type": "code",
      "source": [
        "model2 = tf.keras.Sequential([\n",
        "    tf.keras.layers.Embedding(224, 256),\n",
        "    tf.keras.layers.GRU(1024, return_sequences=True),\n",
        "    tf.keras.layers.Dense(224)\n",
        "])"
      ],
      "metadata": {
        "id": "UgjK6y08vM0V"
      },
      "execution_count": null,
      "outputs": []
    },
    {
      "cell_type": "code",
      "source": [
        "model2.load_weights('gru_prediction_model.h5')"
      ],
      "metadata": {
        "id": "vup1EP3kvPiU"
      },
      "execution_count": null,
      "outputs": []
    },
    {
      "cell_type": "code",
      "source": [
        "model2.build(tf.TensorShape([1, None]))"
      ],
      "metadata": {
        "id": "IPMRKsYGvUtW"
      },
      "execution_count": null,
      "outputs": []
    },
    {
      "cell_type": "code",
      "source": [
        "model2.reset_states()"
      ],
      "metadata": {
        "id": "vR0fR7VGvWRv"
      },
      "execution_count": null,
      "outputs": []
    },
    {
      "cell_type": "code",
      "source": [
        "def text_generator(model, number_of_desired_chars , starting_point):\n",
        "    input = [char2index[s] for s in starting_point]\n",
        "    input = tf.expand_dims(input, 0)\n",
        "    text = [starting_point]\n",
        "    for i in range(number_of_desired_chars):\n",
        "        predicts = model.predict(input, verbose=0)\n",
        "        predicts = tf.squeeze(predicts, 0)\n",
        "        predicts_ID = np.array(predicts.numpy()).argmax(axis=1).reshape(-1, 1)[-1][0]\n",
        "        message = np.append(input[0].numpy(), predicts_ID)[1:]\n",
        "        input = tf.expand_dims(message, 0)\n",
        "        text.append(index2char[predicts_ID])\n",
        "\n",
        "    for i in ''.join(text).split('\\n'):\n",
        "        print(i)"
      ],
      "metadata": {
        "id": "tDkK8ySnvX3o"
      },
      "execution_count": null,
      "outputs": []
    },
    {
      "cell_type": "code",
      "source": [
        "text_generator(model2,19, 'ویکی پدیا')"
      ],
      "metadata": {
        "colab": {
          "base_uri": "https://localhost:8080/"
        },
        "id": "qwmbsRBHvaLh",
        "outputId": "ac4e622d-336b-48c5-a16e-f850d4a6b3f4"
      },
      "execution_count": null,
      "outputs": [
        {
          "output_type": "stream",
          "name": "stdout",
          "text": [
            "ویکی پدیا به فرمانروایی کهن \n"
          ]
        }
      ]
    },
    {
      "cell_type": "code",
      "source": [
        "text_generator(model2,10, 'سرزمین')"
      ],
      "metadata": {
        "colab": {
          "base_uri": "https://localhost:8080/"
        },
        "id": "BCXltDRLV7vC",
        "outputId": "1cc2632c-dc5c-4428-f133-92af03a078e2"
      },
      "execution_count": null,
      "outputs": [
        {
          "output_type": "stream",
          "name": "stdout",
          "text": [
            "سرزمین به وسیلهٔ\n"
          ]
        }
      ]
    }
  ]
}